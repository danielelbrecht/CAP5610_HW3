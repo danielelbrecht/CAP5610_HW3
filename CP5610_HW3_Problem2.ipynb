{
  "nbformat": 4,
  "nbformat_minor": 0,
  "metadata": {
    "colab": {
      "name": "CP5610_HW3_Problem2.ipynb",
      "version": "0.3.2",
      "provenance": [],
      "include_colab_link": true
    },
    "kernelspec": {
      "name": "python3",
      "display_name": "Python 3"
    },
    "accelerator": "GPU"
  },
  "cells": [
    {
      "cell_type": "markdown",
      "metadata": {
        "id": "view-in-github",
        "colab_type": "text"
      },
      "source": [
        "<a href=\"https://colab.research.google.com/github/danielelbrecht/CAP5610_HW3/blob/master/CP5610_HW3_Problem2.ipynb\" target=\"_parent\"><img src=\"https://colab.research.google.com/assets/colab-badge.svg\" alt=\"Open In Colab\"/></a>"
      ]
    },
    {
      "metadata": {
        "id": "fWHaKewp4ESW",
        "colab_type": "code",
        "colab": {
          "base_uri": "https://localhost:8080/",
          "height": 139
        },
        "outputId": "e9de36a8-3716-4131-a785-205445778cba"
      },
      "cell_type": "code",
      "source": [
        "from keras.applications import VGG16\n",
        "from keras import backend as K\n",
        "from keras import layers\n",
        "import numpy as np\n",
        "import tensorflow as tf\n",
        "from tensorflow.keras import layers, utils\n",
        "\n",
        "# Import VGG model\n",
        "vgg = VGG16(weights='imagenet', include_top=False, input_shape=(150, 150, 3))"
      ],
      "execution_count": 1,
      "outputs": [
        {
          "output_type": "stream",
          "text": [
            "Using TensorFlow backend.\n"
          ],
          "name": "stderr"
        },
        {
          "output_type": "stream",
          "text": [
            "WARNING:tensorflow:From /usr/local/lib/python3.6/dist-packages/tensorflow/python/framework/op_def_library.py:263: colocate_with (from tensorflow.python.framework.ops) is deprecated and will be removed in a future version.\n",
            "Instructions for updating:\n",
            "Colocations handled automatically by placer.\n",
            "Downloading data from https://github.com/fchollet/deep-learning-models/releases/download/v0.1/vgg16_weights_tf_dim_ordering_tf_kernels_notop.h5\n",
            "58892288/58889256 [==============================] - 1s 0us/step\n"
          ],
          "name": "stdout"
        }
      ]
    },
    {
      "metadata": {
        "id": "jWqtqt864r62",
        "colab_type": "text"
      },
      "cell_type": "markdown",
      "source": [
        "# Fine tuning with data augmentation"
      ]
    },
    {
      "metadata": {
        "id": "ynfEJFvr4hom",
        "colab_type": "code",
        "colab": {
          "base_uri": "https://localhost:8080/",
          "height": 204
        },
        "outputId": "edb21f14-f2f1-4a9d-8cf5-5c4cf489c87e"
      },
      "cell_type": "code",
      "source": [
        "# Download cats and dogs data set\n",
        "!wget --no-check-certificate \\\n",
        "    https://storage.googleapis.com/mledu-datasets/cats_and_dogs_filtered.zip \\\n",
        "    -O /tmp/cats_and_dogs_filtered.zip"
      ],
      "execution_count": 2,
      "outputs": [
        {
          "output_type": "stream",
          "text": [
            "--2019-04-18 13:21:47--  https://storage.googleapis.com/mledu-datasets/cats_and_dogs_filtered.zip\n",
            "Resolving storage.googleapis.com (storage.googleapis.com)... 74.125.141.128, 2607:f8b0:400c:c06::80\n",
            "Connecting to storage.googleapis.com (storage.googleapis.com)|74.125.141.128|:443... connected.\n",
            "HTTP request sent, awaiting response... 200 OK\n",
            "Length: 68606236 (65M) [application/zip]\n",
            "Saving to: ‘/tmp/cats_and_dogs_filtered.zip’\n",
            "\n",
            "/tmp/cats_and_dogs_ 100%[===================>]  65.43M   120MB/s    in 0.5s    \n",
            "\n",
            "2019-04-18 13:21:48 (120 MB/s) - ‘/tmp/cats_and_dogs_filtered.zip’ saved [68606236/68606236]\n",
            "\n"
          ],
          "name": "stdout"
        }
      ]
    },
    {
      "metadata": {
        "id": "5mFxzAss4lHE",
        "colab_type": "code",
        "colab": {}
      },
      "cell_type": "code",
      "source": [
        "# Process data set\n",
        "import os\n",
        "import zipfile\n",
        "\n",
        "local_zip = '/tmp/cats_and_dogs_filtered.zip'\n",
        "zip_ref = zipfile.ZipFile(local_zip, 'r')\n",
        "zip_ref.extractall('/tmp')\n",
        "zip_ref.close()\n",
        "\n",
        "base_dir = '/tmp/cats_and_dogs_filtered'\n",
        "train_dir = os.path.join(base_dir, 'train')\n",
        "validation_dir = os.path.join(base_dir, 'validation')\n",
        "\n",
        "# Directory with our training cat pictures\n",
        "train_cats_dir = os.path.join(train_dir, 'cats')\n",
        "\n",
        "# Directory with our training dog pictures\n",
        "train_dogs_dir = os.path.join(train_dir, 'dogs')\n",
        "\n",
        "# Directory with our validation cat pictures\n",
        "validation_cats_dir = os.path.join(validation_dir, 'cats')\n",
        "\n",
        "# Directory with our validation dog pictures\n",
        "validation_dogs_dir = os.path.join(validation_dir, 'dogs')"
      ],
      "execution_count": 0,
      "outputs": []
    },
    {
      "metadata": {
        "id": "s1WcDbxT4qnS",
        "colab_type": "code",
        "colab": {}
      },
      "cell_type": "code",
      "source": [
        "from keras import models\n",
        "from keras import layers\n",
        "\n",
        "# Add Dense layers on top of model\n",
        "model = models.Sequential()\n",
        "\n",
        "vgg.trainable = False\n",
        "\n",
        "model.add(vgg)\n",
        "\n",
        "# Flatten output of VGG\n",
        "model.add(layers.Flatten())\n",
        "\n",
        "# FC layers and final classification layer\n",
        "model.add(layers.Dense(32, activation='relu'))\n",
        "model.add(layers.Dense(32, activation='relu'))\n",
        "model.add(layers.Dense(1, activation='sigmoid'))\n",
        "\n"
      ],
      "execution_count": 0,
      "outputs": []
    },
    {
      "metadata": {
        "id": "s58rDaE--sxi",
        "colab_type": "code",
        "colab": {
          "base_uri": "https://localhost:8080/",
          "height": 51
        },
        "outputId": "e39d9d27-23ff-4b0b-a4e3-a194350d22fd"
      },
      "cell_type": "code",
      "source": [
        "from keras.preprocessing.image import ImageDataGenerator\n",
        "\n",
        "#Create data augmentation generators\n",
        "train_datagen = ImageDataGenerator(\n",
        "    rescale=1./255,\n",
        "    rotation_range=40,\n",
        "    width_shift_range=0.2,\n",
        "    height_shift_range=0.2,\n",
        "    zoom_range=0.2,\n",
        "    horizontal_flip=True,\n",
        "    fill_mode='nearest')\n",
        "\n",
        "train_generator = train_datagen.flow_from_directory(\n",
        "    train_dir,\n",
        "    target_size=(150, 150),\n",
        "    batch_size=20,\n",
        "    class_mode='binary')\n",
        "\n",
        "\n",
        "validation_datagen = ImageDataGenerator(rescale=1./255)\n",
        "\n",
        "validation_generator = validation_datagen.flow_from_directory(\n",
        "    validation_dir,\n",
        "    target_size=(150, 150),\n",
        "    batch_size=20,\n",
        "    class_mode='binary')\n",
        "\n",
        "\n",
        "# Compile model\n",
        "model.compile(optimizer='rmsprop',\n",
        "              loss='binary_crossentropy',\n",
        "              metrics=['accuracy'])"
      ],
      "execution_count": 5,
      "outputs": [
        {
          "output_type": "stream",
          "text": [
            "Found 2000 images belonging to 2 classes.\n",
            "Found 1000 images belonging to 2 classes.\n"
          ],
          "name": "stdout"
        }
      ]
    },
    {
      "metadata": {
        "id": "iu4-MWngl5Ss",
        "colab_type": "code",
        "colab": {
          "base_uri": "https://localhost:8080/",
          "height": 768
        },
        "outputId": "643a452d-5d38-444b-bac2-94dfe3d0e147"
      },
      "cell_type": "code",
      "source": [
        "# Train model - just the last fc layers\n",
        "history = model.fit_generator(\n",
        "    train_generator,\n",
        "    steps_per_epoch=100,\n",
        "    epochs=20,\n",
        "    validation_data=validation_generator,\n",
        "    validation_steps=50\n",
        ")"
      ],
      "execution_count": 6,
      "outputs": [
        {
          "output_type": "stream",
          "text": [
            "WARNING:tensorflow:From /usr/local/lib/python3.6/dist-packages/tensorflow/python/ops/math_ops.py:3066: to_int32 (from tensorflow.python.ops.math_ops) is deprecated and will be removed in a future version.\n",
            "Instructions for updating:\n",
            "Use tf.cast instead.\n",
            "Epoch 1/20\n",
            "100/100 [==============================] - 23s 235ms/step - loss: 0.5563 - acc: 0.7075 - val_loss: 0.3443 - val_acc: 0.8440\n",
            "Epoch 2/20\n",
            "100/100 [==============================] - 18s 181ms/step - loss: 0.4165 - acc: 0.8085 - val_loss: 0.3246 - val_acc: 0.8540\n",
            "Epoch 3/20\n",
            "100/100 [==============================] - 18s 178ms/step - loss: 0.3923 - acc: 0.8205 - val_loss: 0.2732 - val_acc: 0.8740\n",
            "Epoch 4/20\n",
            "100/100 [==============================] - 19s 186ms/step - loss: 0.3750 - acc: 0.8310 - val_loss: 0.2738 - val_acc: 0.8870\n",
            "Epoch 5/20\n",
            "100/100 [==============================] - 18s 179ms/step - loss: 0.3540 - acc: 0.8390 - val_loss: 0.2922 - val_acc: 0.8720\n",
            "Epoch 6/20\n",
            "100/100 [==============================] - 18s 179ms/step - loss: 0.3572 - acc: 0.8415 - val_loss: 0.3020 - val_acc: 0.8830\n",
            "Epoch 7/20\n",
            "100/100 [==============================] - 18s 183ms/step - loss: 0.3520 - acc: 0.8435 - val_loss: 0.2794 - val_acc: 0.8810\n",
            "Epoch 8/20\n",
            "100/100 [==============================] - 18s 177ms/step - loss: 0.3376 - acc: 0.8510 - val_loss: 0.3673 - val_acc: 0.8420\n",
            "Epoch 9/20\n",
            "100/100 [==============================] - 19s 186ms/step - loss: 0.3402 - acc: 0.8360 - val_loss: 0.3081 - val_acc: 0.8680\n",
            "Epoch 10/20\n",
            "100/100 [==============================] - 18s 177ms/step - loss: 0.3325 - acc: 0.8485 - val_loss: 0.2484 - val_acc: 0.8950\n",
            "Epoch 11/20\n",
            "100/100 [==============================] - 18s 176ms/step - loss: 0.3150 - acc: 0.8635 - val_loss: 0.2722 - val_acc: 0.8910\n",
            "Epoch 12/20\n",
            "100/100 [==============================] - 18s 176ms/step - loss: 0.3100 - acc: 0.8610 - val_loss: 0.2513 - val_acc: 0.8960\n",
            "Epoch 13/20\n",
            "100/100 [==============================] - 18s 184ms/step - loss: 0.3191 - acc: 0.8585 - val_loss: 0.3458 - val_acc: 0.8720\n",
            "Epoch 14/20\n",
            "100/100 [==============================] - 18s 178ms/step - loss: 0.3022 - acc: 0.8655 - val_loss: 0.2756 - val_acc: 0.8900\n",
            "Epoch 15/20\n",
            "100/100 [==============================] - 19s 187ms/step - loss: 0.3138 - acc: 0.8620 - val_loss: 0.2723 - val_acc: 0.8910\n",
            "Epoch 16/20\n",
            "100/100 [==============================] - 18s 176ms/step - loss: 0.3000 - acc: 0.8675 - val_loss: 0.2992 - val_acc: 0.8800\n",
            "Epoch 17/20\n",
            "100/100 [==============================] - 18s 177ms/step - loss: 0.3009 - acc: 0.8675 - val_loss: 0.4061 - val_acc: 0.8420\n",
            "Epoch 18/20\n",
            "100/100 [==============================] - 19s 186ms/step - loss: 0.3133 - acc: 0.8590 - val_loss: 0.3092 - val_acc: 0.8820\n",
            "Epoch 19/20\n",
            "100/100 [==============================] - 18s 176ms/step - loss: 0.2904 - acc: 0.8770 - val_loss: 0.2915 - val_acc: 0.8760\n",
            "Epoch 20/20\n",
            "100/100 [==============================] - 18s 176ms/step - loss: 0.2907 - acc: 0.8705 - val_loss: 0.3451 - val_acc: 0.8710\n"
          ],
          "name": "stdout"
        }
      ]
    },
    {
      "metadata": {
        "id": "VihuSsS0JsdQ",
        "colab_type": "code",
        "colab": {
          "base_uri": "https://localhost:8080/",
          "height": 629
        },
        "outputId": "8c099555-32f7-4b26-8bf6-f5fbd9920e13"
      },
      "cell_type": "code",
      "source": [
        "from tensorflow import keras\n",
        "from keras import optimizers\n",
        "# enable fine tuning for last conv layer\n",
        "vgg.trainable = True\n",
        "\n",
        "for layer in vgg.layers:\n",
        "  if layer.name == 'block5_conv3':\n",
        "    layer.trainable = True\n",
        "  else:\n",
        "    layer.trainable = False\n",
        "\n",
        "    \n",
        "for layer in vgg.layers:\n",
        "  print(layer.name, layer.trainable)\n",
        "  \n",
        "  \n",
        "opt = optimizers.RMSprop(lr=0.00001)\n",
        "\n",
        "# Compile model\n",
        "model.compile(optimizer=opt,\n",
        "              loss='binary_crossentropy',\n",
        "              metrics=['accuracy'])\n",
        "\n",
        "model.summary()"
      ],
      "execution_count": 9,
      "outputs": [
        {
          "output_type": "stream",
          "text": [
            "input_1 False\n",
            "block1_conv1 False\n",
            "block1_conv2 False\n",
            "block1_pool False\n",
            "block2_conv1 False\n",
            "block2_conv2 False\n",
            "block2_pool False\n",
            "block3_conv1 False\n",
            "block3_conv2 False\n",
            "block3_conv3 False\n",
            "block3_pool False\n",
            "block4_conv1 False\n",
            "block4_conv2 False\n",
            "block4_conv3 False\n",
            "block4_pool False\n",
            "block5_conv1 False\n",
            "block5_conv2 False\n",
            "block5_conv3 True\n",
            "block5_pool False\n",
            "_________________________________________________________________\n",
            "Layer (type)                 Output Shape              Param #   \n",
            "=================================================================\n",
            "vgg16 (Model)                (None, 4, 4, 512)         14714688  \n",
            "_________________________________________________________________\n",
            "flatten_1 (Flatten)          (None, 8192)              0         \n",
            "_________________________________________________________________\n",
            "dense_1 (Dense)              (None, 32)                262176    \n",
            "_________________________________________________________________\n",
            "dense_2 (Dense)              (None, 32)                1056      \n",
            "_________________________________________________________________\n",
            "dense_3 (Dense)              (None, 1)                 33        \n",
            "=================================================================\n",
            "Total params: 14,977,953\n",
            "Trainable params: 2,623,073\n",
            "Non-trainable params: 12,354,880\n",
            "_________________________________________________________________\n"
          ],
          "name": "stdout"
        }
      ]
    },
    {
      "metadata": {
        "id": "_1JhfTd3JpHT",
        "colab_type": "code",
        "colab": {
          "base_uri": "https://localhost:8080/",
          "height": 697
        },
        "outputId": "2776d147-4d62-448f-bda2-38a8f5e1c103"
      },
      "cell_type": "code",
      "source": [
        "# Train model with fine tuning\n",
        "history = model.fit_generator(\n",
        "    train_generator,\n",
        "    steps_per_epoch=100,\n",
        "    epochs=20,\n",
        "    validation_data=validation_generator,\n",
        "    validation_steps=50\n",
        ")"
      ],
      "execution_count": 10,
      "outputs": [
        {
          "output_type": "stream",
          "text": [
            "Epoch 1/20\n",
            "100/100 [==============================] - 21s 208ms/step - loss: 0.2603 - acc: 0.8825 - val_loss: 0.2634 - val_acc: 0.8950\n",
            "Epoch 2/20\n",
            "100/100 [==============================] - 18s 180ms/step - loss: 0.2567 - acc: 0.8885 - val_loss: 0.2450 - val_acc: 0.9060\n",
            "Epoch 3/20\n",
            "100/100 [==============================] - 18s 180ms/step - loss: 0.2578 - acc: 0.8925 - val_loss: 0.2580 - val_acc: 0.9000\n",
            "Epoch 4/20\n",
            "100/100 [==============================] - 19s 187ms/step - loss: 0.2514 - acc: 0.9000 - val_loss: 0.2600 - val_acc: 0.8980\n",
            "Epoch 5/20\n",
            "100/100 [==============================] - 18s 179ms/step - loss: 0.2180 - acc: 0.9075 - val_loss: 0.2909 - val_acc: 0.8970\n",
            "Epoch 6/20\n",
            "100/100 [==============================] - 18s 178ms/step - loss: 0.2531 - acc: 0.8935 - val_loss: 0.2506 - val_acc: 0.9080\n",
            "Epoch 7/20\n",
            "100/100 [==============================] - 18s 179ms/step - loss: 0.2217 - acc: 0.9110 - val_loss: 0.2506 - val_acc: 0.9110\n",
            "Epoch 8/20\n",
            "100/100 [==============================] - 18s 182ms/step - loss: 0.2346 - acc: 0.9025 - val_loss: 0.2623 - val_acc: 0.9050\n",
            "Epoch 9/20\n",
            "100/100 [==============================] - 19s 187ms/step - loss: 0.2250 - acc: 0.9065 - val_loss: 0.2378 - val_acc: 0.9130\n",
            "Epoch 10/20\n",
            "100/100 [==============================] - 18s 179ms/step - loss: 0.2180 - acc: 0.9075 - val_loss: 0.2733 - val_acc: 0.9060\n",
            "Epoch 11/20\n",
            "100/100 [==============================] - 18s 178ms/step - loss: 0.2164 - acc: 0.9110 - val_loss: 0.2397 - val_acc: 0.9150\n",
            "Epoch 12/20\n",
            "100/100 [==============================] - 18s 178ms/step - loss: 0.2281 - acc: 0.9110 - val_loss: 0.2495 - val_acc: 0.9100\n",
            "Epoch 13/20\n",
            "100/100 [==============================] - 19s 187ms/step - loss: 0.2203 - acc: 0.9085 - val_loss: 0.2521 - val_acc: 0.9150\n",
            "Epoch 14/20\n",
            "100/100 [==============================] - 18s 178ms/step - loss: 0.2055 - acc: 0.9145 - val_loss: 0.2282 - val_acc: 0.9170\n",
            "Epoch 15/20\n",
            "100/100 [==============================] - 18s 177ms/step - loss: 0.1968 - acc: 0.9185 - val_loss: 0.2548 - val_acc: 0.9160\n",
            "Epoch 16/20\n",
            "100/100 [==============================] - 18s 176ms/step - loss: 0.2137 - acc: 0.9155 - val_loss: 0.2137 - val_acc: 0.9250\n",
            "Epoch 17/20\n",
            "100/100 [==============================] - 18s 181ms/step - loss: 0.2142 - acc: 0.9090 - val_loss: 0.2591 - val_acc: 0.9120\n",
            "Epoch 18/20\n",
            "100/100 [==============================] - 19s 186ms/step - loss: 0.1957 - acc: 0.9175 - val_loss: 0.2597 - val_acc: 0.9180\n",
            "Epoch 19/20\n",
            "100/100 [==============================] - 18s 176ms/step - loss: 0.1989 - acc: 0.9195 - val_loss: 0.2148 - val_acc: 0.9280\n",
            "Epoch 20/20\n",
            "100/100 [==============================] - 17s 175ms/step - loss: 0.1896 - acc: 0.9250 - val_loss: 0.2736 - val_acc: 0.9120\n"
          ],
          "name": "stdout"
        }
      ]
    },
    {
      "metadata": {
        "id": "-oa_AUQo71aa",
        "colab_type": "code",
        "colab": {
          "base_uri": "https://localhost:8080/",
          "height": 295
        },
        "outputId": "da362155-ec53-4af6-bc9e-9f2b9f295e63"
      },
      "cell_type": "code",
      "source": [
        "#plot results\n",
        "import matplotlib as mpl\n",
        "import matplotlib.pyplot as plt\n",
        "\n",
        "epoch = []\n",
        "for i in range(20):\n",
        "  epoch.append(i+1)\n",
        "  \n",
        "plt.plot(epoch, history.history['val_acc'], label='Validation accuracy')\n",
        "plt.plot(epoch, history.history['acc'], label='Training accuracy')\n",
        "plt.xlabel(\"# of epochs\")\n",
        "plt.ylabel(\"Accuracy\")\n",
        "plt.title(\"Fine Tuning Results\")\n",
        "plt.legend(loc=\"upper left\", fontsize=16)\n",
        "plt.show()"
      ],
      "execution_count": 12,
      "outputs": [
        {
          "output_type": "display_data",
          "data": {
            "image/png": "[encoded data removed]",
            "text/plain": [
              "<Figure size 432x288 with 1 Axes>"
            ]
          },
          "metadata": {
            "tags": []
          }
        }
      ]
    },
    {
      "metadata": {
        "id": "Cn6um7jz8b7C",
        "colab_type": "code",
        "colab": {
          "base_uri": "https://localhost:8080/",
          "height": 68
        },
        "outputId": "68169a6d-c797-471c-bd06-7241d860ec2e"
      },
      "cell_type": "code",
      "source": [
        "!pip install -U -q PyDrive\n",
        "from pydrive.auth import GoogleAuth\n",
        "from pydrive.drive import GoogleDrive \n",
        "from google.colab import auth \n",
        "from oauth2client.client import GoogleCredentials\n",
        "\n",
        "auth.authenticate_user()\n",
        "gauth = GoogleAuth()\n",
        "gauth.credentials = GoogleCredentials.get_application_default()                       \n",
        "drive = GoogleDrive(gauth)\n",
        "\n",
        "model.save('model.h5')\n",
        "model_file = drive.CreateFile({'title' : 'model.h5'})                       \n",
        "model_file.SetContentFile('model.h5')                       \n",
        "model_file.Upload()\n",
        "\n",
        "# download to google drive                       \n",
        "drive.CreateFile({'id': model_file.get('id')})\n",
        "\n"
      ],
      "execution_count": 13,
      "outputs": [
        {
          "output_type": "stream",
          "text": [
            "\u001b[?25l\r\u001b[K    1% |▎                               | 10kB 27.1MB/s eta 0:00:01\r\u001b[K    2% |▋                               | 20kB 1.8MB/s eta 0:00:01\r\u001b[K    3% |█                               | 30kB 2.6MB/s eta 0:00:01\r\u001b[K    4% |█▎                              | 40kB 1.7MB/s eta 0:00:01\r\u001b[K    5% |█▋                              | 51kB 2.1MB/s eta 0:00:01\r\u001b[K    6% |██                              | 61kB 2.5MB/s eta 0:00:01\r\u001b[K    7% |██▎                             | 71kB 2.9MB/s eta 0:00:01\r\u001b[K    8% |██▋                             | 81kB 3.3MB/s eta 0:00:01\r\u001b[K    9% |███                             | 92kB 3.7MB/s eta 0:00:01\r\u001b[K    10% |███▎                            | 102kB 2.8MB/s eta 0:00:01\r\u001b[K    11% |███▋                            | 112kB 2.9MB/s eta 0:00:01\r\u001b[K    12% |████                            | 122kB 4.1MB/s eta 0:00:01\r\u001b[K    13% |████▎                           | 133kB 4.1MB/s eta 0:00:01\r\u001b[K    14% |████▋                           | 143kB 7.8MB/s eta 0:00:01\r\u001b[K    15% |█████                           | 153kB 7.9MB/s eta 0:00:01\r\u001b[K    16% |█████▎                          | 163kB 7.9MB/s eta 0:00:01\r\u001b[K    17% |█████▋                          | 174kB 8.0MB/s eta 0:00:01\r\u001b[K    18% |██████                          | 184kB 8.0MB/s eta 0:00:01\r\u001b[K    19% |██████▎                         | 194kB 8.0MB/s eta 0:00:01\r\u001b[K    20% |██████▋                         | 204kB 52.1MB/s eta 0:00:01\r\u001b[K    21% |███████                         | 215kB 8.5MB/s eta 0:00:01\r\u001b[K    22% |███████▎                        | 225kB 8.5MB/s eta 0:00:01\r\u001b[K    23% |███████▋                        | 235kB 8.5MB/s eta 0:00:01\r\u001b[K    24% |████████                        | 245kB 8.5MB/s eta 0:00:01\r\u001b[K    25% |████████▎                       | 256kB 8.5MB/s eta 0:00:01\r\u001b[K    26% |████████▋                       | 266kB 8.3MB/s eta 0:00:01\r\u001b[K    27% |█████████                       | 276kB 8.4MB/s eta 0:00:01\r\u001b[K    29% |█████████▎                      | 286kB 8.4MB/s eta 0:00:01\r\u001b[K    30% |█████████▋                      | 296kB 8.4MB/s eta 0:00:01\r\u001b[K    31% |██████████                      | 307kB 8.6MB/s eta 0:00:01\r\u001b[K    32% |██████████▎                     | 317kB 59.3MB/s eta 0:00:01\r\u001b[K    33% |██████████▋                     | 327kB 60.3MB/s eta 0:00:01\r\u001b[K    34% |███████████                     | 337kB 62.7MB/s eta 0:00:01\r\u001b[K    35% |███████████▎                    | 348kB 56.0MB/s eta 0:00:01\r\u001b[K    36% |███████████▋                    | 358kB 55.9MB/s eta 0:00:01\r\u001b[K    37% |████████████                    | 368kB 65.2MB/s eta 0:00:01\r\u001b[K    38% |████████████▎                   | 378kB 65.4MB/s eta 0:00:01\r\u001b[K    39% |████████████▋                   | 389kB 65.7MB/s eta 0:00:01\r\u001b[K    40% |█████████████                   | 399kB 9.5MB/s eta 0:00:01\r\u001b[K    41% |█████████████▎                  | 409kB 9.4MB/s eta 0:00:01\r\u001b[K    42% |█████████████▋                  | 419kB 9.3MB/s eta 0:00:01\r\u001b[K    43% |██████████████                  | 430kB 9.3MB/s eta 0:00:01\r\u001b[K    44% |██████████████▎                 | 440kB 9.3MB/s eta 0:00:01\r\u001b[K    45% |██████████████▋                 | 450kB 9.3MB/s eta 0:00:01\r\u001b[K    46% |███████████████                 | 460kB 9.3MB/s eta 0:00:01\r\u001b[K    47% |███████████████▎                | 471kB 9.3MB/s eta 0:00:01\r\u001b[K    48% |███████████████▋                | 481kB 9.3MB/s eta 0:00:01\r\u001b[K    49% |████████████████                | 491kB 9.3MB/s eta 0:00:01\r\u001b[K    50% |████████████████▎               | 501kB 58.9MB/s eta 0:00:01\r\u001b[K    51% |████████████████▋               | 512kB 56.8MB/s eta 0:00:01\r\u001b[K    52% |█████████████████               | 522kB 58.3MB/s eta 0:00:01\r\u001b[K    53% |█████████████████▎              | 532kB 60.4MB/s eta 0:00:01\r\u001b[K    54% |█████████████████▋              | 542kB 63.8MB/s eta 0:00:01\r\u001b[K    55% |██████████████████              | 552kB 70.1MB/s eta 0:00:01\r\u001b[K    57% |██████████████████▎             | 563kB 69.7MB/s eta 0:00:01\r\u001b[K    58% |██████████████████▋             | 573kB 67.4MB/s eta 0:00:01\r\u001b[K    59% |███████████████████             | 583kB 66.7MB/s eta 0:00:01\r\u001b[K    60% |███████████████████▎            | 593kB 66.8MB/s eta 0:00:01\r\u001b[K    61% |███████████████████▋            | 604kB 68.5MB/s eta 0:00:01\r\u001b[K    62% |████████████████████            | 614kB 75.4MB/s eta 0:00:01\r\u001b[K    63% |████████████████████▎           | 624kB 75.0MB/s eta 0:00:01\r\u001b[K    64% |████████████████████▋           | 634kB 72.7MB/s eta 0:00:01\r\u001b[K    65% |█████████████████████           | 645kB 10.4MB/s eta 0:00:01\r\u001b[K    66% |█████████████████████▎          | 655kB 10.3MB/s eta 0:00:01\r\u001b[K    67% |█████████████████████▋          | 665kB 9.8MB/s eta 0:00:01\r\u001b[K    68% |██████████████████████          | 675kB 9.8MB/s eta 0:00:01\r\u001b[K    69% |██████████████████████▎         | 686kB 9.8MB/s eta 0:00:01\r\u001b[K    70% |██████████████████████▋         | 696kB 9.9MB/s eta 0:00:01\r\u001b[K    71% |███████████████████████         | 706kB 9.8MB/s eta 0:00:01\r\u001b[K    72% |███████████████████████▎        | 716kB 9.8MB/s eta 0:00:01\r\u001b[K    73% |███████████████████████▋        | 727kB 9.8MB/s eta 0:00:01\r\u001b[K    74% |████████████████████████        | 737kB 9.8MB/s eta 0:00:01\r\u001b[K    75% |████████████████████████▎       | 747kB 50.8MB/s eta 0:00:01\r\u001b[K    76% |████████████████████████▋       | 757kB 52.9MB/s eta 0:00:01\r\u001b[K    77% |████████████████████████▉       | 768kB 71.3MB/s eta 0:00:01\r\u001b[K    78% |█████████████████████████▏      | 778kB 71.1MB/s eta 0:00:01\r\u001b[K    79% |█████████████████████████▌      | 788kB 67.7MB/s eta 0:00:01\r\u001b[K    80% |█████████████████████████▉      | 798kB 66.5MB/s eta 0:00:01\r\u001b[K    81% |██████████████████████████▏     | 808kB 65.4MB/s eta 0:00:01\r\u001b[K    82% |██████████████████████████▌     | 819kB 64.7MB/s eta 0:00:01\r\u001b[K    83% |██████████████████████████▉     | 829kB 64.7MB/s eta 0:00:01\r\u001b[K    85% |███████████████████████████▏    | 839kB 62.4MB/s eta 0:00:01\r\u001b[K    86% |███████████████████████████▌    | 849kB 62.5MB/s eta 0:00:01\r\u001b[K    87% |███████████████████████████▉    | 860kB 56.4MB/s eta 0:00:01\r\u001b[K    88% |████████████████████████████▏   | 870kB 55.3MB/s eta 0:00:01\r\u001b[K    89% |████████████████████████████▌   | 880kB 57.3MB/s eta 0:00:01\r\u001b[K    90% |████████████████████████████▉   | 890kB 58.9MB/s eta 0:00:01\r\u001b[K    91% |█████████████████████████████▏  | 901kB 59.1MB/s eta 0:00:01\r\u001b[K    92% |█████████████████████████████▌  | 911kB 60.1MB/s eta 0:00:01\r\u001b[K    93% |█████████████████████████████▉  | 921kB 60.6MB/s eta 0:00:01\r\u001b[K    94% |██████████████████████████████▏ | 931kB 60.7MB/s eta 0:00:01\r\u001b[K    95% |██████████████████████████████▌ | 942kB 61.9MB/s eta 0:00:01\r\u001b[K    96% |██████████████████████████████▉ | 952kB 61.3MB/s eta 0:00:01\r\u001b[K    97% |███████████████████████████████▏| 962kB 67.5MB/s eta 0:00:01\r\u001b[K    98% |███████████████████████████████▌| 972kB 67.7MB/s eta 0:00:01\r\u001b[K    99% |███████████████████████████████▉| 983kB 65.3MB/s eta 0:00:01\r\u001b[K    100% |████████████████████████████████| 993kB 23.1MB/s \n",
            "\u001b[?25h  Building wheel for PyDrive (setup.py) ... \u001b[?25ldone\n",
            "\u001b[?25h"
          ],
          "name": "stdout"
        },
        {
          "output_type": "execute_result",
          "data": {
            "text/plain": [
              "GoogleDriveFile({'id': '1Fdq4nr38hqcn2UocSAPN4FfBCAlOGYFu'})"
            ]
          },
          "metadata": {
            "tags": []
          },
          "execution_count": 13
        }
      ]
    }
  ]
}