{
  "nbformat": 4,
  "nbformat_minor": 0,
  "metadata": {
    "colab": {
      "name": "CP5610_HW3_Problem2.ipynb",
      "version": "0.3.2",
      "provenance": [],
      "include_colab_link": true
    },
    "kernelspec": {
      "name": "python3",
      "display_name": "Python 3"
    },
    "accelerator": "GPU"
  },
  "cells": [
    {
      "cell_type": "markdown",
      "metadata": {
        "id": "view-in-github",
        "colab_type": "text"
      },
      "source": [
        "<a href=\"https://colab.research.google.com/github/danielelbrecht/CAP5610_HW3/blob/master/CP5610_HW3_Problem2.ipynb\" target=\"_parent\"><img src=\"https://colab.research.google.com/assets/colab-badge.svg\" alt=\"Open In Colab\"/></a>"
      ]
    },
    {
      "metadata": {
        "id": "fWHaKewp4ESW",
        "colab_type": "code",
        "colab": {
          "base_uri": "https://localhost:8080/",
          "height": 139
        },
        "outputId": "84840e5f-2649-4f3b-b3ed-97a689b5f0f2"
      },
      "cell_type": "code",
      "source": [
        "from keras.applications import VGG16\n",
        "from keras import backend as K\n",
        "from keras import layers\n",
        "import numpy as np\n",
        "import tensorflow as tf\n",
        "from tensorflow.keras import layers, utils\n",
        "\n",
        "# Import VGG model\n",
        "vgg = VGG16(weights='imagenet', include_top=False, input_shape=(150, 150, 3))"
      ],
      "execution_count": 1,
      "outputs": [
        {
          "output_type": "stream",
          "text": [
            "Using TensorFlow backend.\n"
          ],
          "name": "stderr"
        },
        {
          "output_type": "stream",
          "text": [
            "WARNING:tensorflow:From /usr/local/lib/python3.6/dist-packages/tensorflow/python/framework/op_def_library.py:263: colocate_with (from tensorflow.python.framework.ops) is deprecated and will be removed in a future version.\n",
            "Instructions for updating:\n",
            "Colocations handled automatically by placer.\n",
            "Downloading data from https://github.com/fchollet/deep-learning-models/releases/download/v0.1/vgg16_weights_tf_dim_ordering_tf_kernels_notop.h5\n",
            "58892288/58889256 [==============================] - 4s 0us/step\n"
          ],
          "name": "stdout"
        }
      ]
    },
    {
      "metadata": {
        "id": "jWqtqt864r62",
        "colab_type": "text"
      },
      "cell_type": "markdown",
      "source": [
        "# Fine tuning with data augmentation"
      ]
    },
    {
      "metadata": {
        "id": "ynfEJFvr4hom",
        "colab_type": "code",
        "colab": {
          "base_uri": "https://localhost:8080/",
          "height": 204
        },
        "outputId": "13ba7cb1-2234-45a8-81aa-573de97781d5"
      },
      "cell_type": "code",
      "source": [
        "# Download cats and dogs data set\n",
        "!wget --no-check-certificate \\\n",
        "    https://storage.googleapis.com/mledu-datasets/cats_and_dogs_filtered.zip \\\n",
        "    -O /tmp/cats_and_dogs_filtered.zip"
      ],
      "execution_count": 2,
      "outputs": [
        {
          "output_type": "stream",
          "text": [
            "--2019-04-18 11:14:42--  https://storage.googleapis.com/mledu-datasets/cats_and_dogs_filtered.zip\n",
            "Resolving storage.googleapis.com (storage.googleapis.com)... 216.58.197.208, 2404:6800:4004:80f::2010\n",
            "Connecting to storage.googleapis.com (storage.googleapis.com)|216.58.197.208|:443... connected.\n",
            "HTTP request sent, awaiting response... 200 OK\n",
            "Length: 68606236 (65M) [application/zip]\n",
            "Saving to: ‘/tmp/cats_and_dogs_filtered.zip’\n",
            "\n",
            "/tmp/cats_and_dogs_ 100%[===================>]  65.43M  45.7MB/s    in 1.4s    \n",
            "\n",
            "2019-04-18 11:14:44 (45.7 MB/s) - ‘/tmp/cats_and_dogs_filtered.zip’ saved [68606236/68606236]\n",
            "\n"
          ],
          "name": "stdout"
        }
      ]
    },
    {
      "metadata": {
        "id": "5mFxzAss4lHE",
        "colab_type": "code",
        "colab": {}
      },
      "cell_type": "code",
      "source": [
        "# Process data set\n",
        "import os\n",
        "import zipfile\n",
        "\n",
        "local_zip = '/tmp/cats_and_dogs_filtered.zip'\n",
        "zip_ref = zipfile.ZipFile(local_zip, 'r')\n",
        "zip_ref.extractall('/tmp')\n",
        "zip_ref.close()\n",
        "\n",
        "base_dir = '/tmp/cats_and_dogs_filtered'\n",
        "train_dir = os.path.join(base_dir, 'train')\n",
        "validation_dir = os.path.join(base_dir, 'validation')\n",
        "\n",
        "# Directory with our training cat pictures\n",
        "train_cats_dir = os.path.join(train_dir, 'cats')\n",
        "\n",
        "# Directory with our training dog pictures\n",
        "train_dogs_dir = os.path.join(train_dir, 'dogs')\n",
        "\n",
        "# Directory with our validation cat pictures\n",
        "validation_cats_dir = os.path.join(validation_dir, 'cats')\n",
        "\n",
        "# Directory with our validation dog pictures\n",
        "validation_dogs_dir = os.path.join(validation_dir, 'dogs')"
      ],
      "execution_count": 0,
      "outputs": []
    },
    {
      "metadata": {
        "id": "s1WcDbxT4qnS",
        "colab_type": "code",
        "colab": {}
      },
      "cell_type": "code",
      "source": [
        "from keras import models\n",
        "from keras import layers\n",
        "\n",
        "# Add Dense layers on top of model\n",
        "model = models.Sequential()\n",
        "\n",
        "vgg.trainable = False\n",
        "\n",
        "model.add(vgg)\n",
        "\n",
        "# Flatten output of VGG\n",
        "model.add(layers.Flatten())\n",
        "\n",
        "# FC layers and final classification layer\n",
        "model.add(layers.Dense(32, activation='relu'))\n",
        "model.add(layers.Dense(32, activation='relu'))\n",
        "model.add(layers.Dense(1, activation='sigmoid'))\n",
        "\n"
      ],
      "execution_count": 0,
      "outputs": []
    },
    {
      "metadata": {
        "id": "s58rDaE--sxi",
        "colab_type": "code",
        "colab": {
          "base_uri": "https://localhost:8080/",
          "height": 51
        },
        "outputId": "b92447fc-60ed-4855-bded-2de2d5580949"
      },
      "cell_type": "code",
      "source": [
        "from keras.preprocessing.image import ImageDataGenerator\n",
        "\n",
        "#Create data augmentation generators\n",
        "train_datagen = ImageDataGenerator(\n",
        "    rescale=1./255,\n",
        "    rotation_range=40,\n",
        "    width_shift_range=0.2,\n",
        "    height_shift_range=0.2,\n",
        "    zoom_range=0.2,\n",
        "    horizontal_flip=True,\n",
        "    fill_mode='nearest')\n",
        "\n",
        "train_generator = train_datagen.flow_from_directory(\n",
        "    train_dir,\n",
        "    target_size=(150, 150),\n",
        "    batch_size=20,\n",
        "    class_mode='binary')\n",
        "\n",
        "\n",
        "validation_datagen = ImageDataGenerator(rescale=1./255)\n",
        "\n",
        "validation_generator = validation_datagen.flow_from_directory(\n",
        "    validation_dir,\n",
        "    target_size=(150, 150),\n",
        "    batch_size=20,\n",
        "    class_mode='binary')\n",
        "\n",
        "\n",
        "# Compile model\n",
        "model.compile(optimizer='rmsprop',\n",
        "              loss='binary_crossentropy',\n",
        "              metrics=['accuracy'])"
      ],
      "execution_count": 5,
      "outputs": [
        {
          "output_type": "stream",
          "text": [
            "Found 2000 images belonging to 2 classes.\n",
            "Found 1000 images belonging to 2 classes.\n"
          ],
          "name": "stdout"
        }
      ]
    },
    {
      "metadata": {
        "id": "VihuSsS0JsdQ",
        "colab_type": "code",
        "colab": {
          "base_uri": "https://localhost:8080/",
          "height": 629
        },
        "outputId": "8413c33d-aa59-4e72-f9f2-7ae7d718b9b3"
      },
      "cell_type": "code",
      "source": [
        "# enable fine tuning for last conv layer\n",
        "vgg.trainable = True\n",
        "\n",
        "for layer in vgg.layers:\n",
        "  if layer.name == 'block5_conv3':\n",
        "    layer.trainable = True\n",
        "  else:\n",
        "    layer.trainable = False\n",
        "\n",
        "    \n",
        "for layer in vgg.layers:\n",
        "  print(layer.name, layer.trainable)\n",
        "  \n",
        "  \n",
        "# Compile model\n",
        "model.compile(optimizer='rmsprop',\n",
        "              loss='binary_crossentropy',\n",
        "              metrics=['accuracy'])\n",
        "\n",
        "model.summary()"
      ],
      "execution_count": 6,
      "outputs": [
        {
          "output_type": "stream",
          "text": [
            "input_1 False\n",
            "block1_conv1 False\n",
            "block1_conv2 False\n",
            "block1_pool False\n",
            "block2_conv1 False\n",
            "block2_conv2 False\n",
            "block2_pool False\n",
            "block3_conv1 False\n",
            "block3_conv2 False\n",
            "block3_conv3 False\n",
            "block3_pool False\n",
            "block4_conv1 False\n",
            "block4_conv2 False\n",
            "block4_conv3 False\n",
            "block4_pool False\n",
            "block5_conv1 False\n",
            "block5_conv2 False\n",
            "block5_conv3 True\n",
            "block5_pool False\n",
            "_________________________________________________________________\n",
            "Layer (type)                 Output Shape              Param #   \n",
            "=================================================================\n",
            "vgg16 (Model)                (None, 4, 4, 512)         14714688  \n",
            "_________________________________________________________________\n",
            "flatten_1 (Flatten)          (None, 8192)              0         \n",
            "_________________________________________________________________\n",
            "dense_1 (Dense)              (None, 32)                262176    \n",
            "_________________________________________________________________\n",
            "dense_2 (Dense)              (None, 32)                1056      \n",
            "_________________________________________________________________\n",
            "dense_3 (Dense)              (None, 1)                 33        \n",
            "=================================================================\n",
            "Total params: 14,977,953\n",
            "Trainable params: 2,623,073\n",
            "Non-trainable params: 12,354,880\n",
            "_________________________________________________________________\n"
          ],
          "name": "stdout"
        }
      ]
    },
    {
      "metadata": {
        "id": "_1JhfTd3JpHT",
        "colab_type": "code",
        "colab": {
          "base_uri": "https://localhost:8080/",
          "height": 768
        },
        "outputId": "4d732145-1ef3-450b-f31f-1884a561085b"
      },
      "cell_type": "code",
      "source": [
        "# Train model\n",
        "history = model.fit_generator(\n",
        "    train_generator,\n",
        "    steps_per_epoch=100,\n",
        "    epochs=20,\n",
        "    validation_data=validation_generator,\n",
        "    validation_steps=50\n",
        ")"
      ],
      "execution_count": 7,
      "outputs": [
        {
          "output_type": "stream",
          "text": [
            "WARNING:tensorflow:From /usr/local/lib/python3.6/dist-packages/tensorflow/python/ops/math_ops.py:3066: to_int32 (from tensorflow.python.ops.math_ops) is deprecated and will be removed in a future version.\n",
            "Instructions for updating:\n",
            "Use tf.cast instead.\n",
            "Epoch 1/20\n",
            "100/100 [==============================] - 23s 235ms/step - loss: 0.6364 - acc: 0.7075 - val_loss: 0.3339 - val_acc: 0.8720\n",
            "Epoch 2/20\n",
            "100/100 [==============================] - 18s 177ms/step - loss: 0.4131 - acc: 0.8210 - val_loss: 0.2502 - val_acc: 0.8930\n",
            "Epoch 3/20\n",
            "100/100 [==============================] - 18s 178ms/step - loss: 0.3643 - acc: 0.8415 - val_loss: 0.2327 - val_acc: 0.9030\n",
            "Epoch 4/20\n",
            "100/100 [==============================] - 19s 187ms/step - loss: 0.3492 - acc: 0.8530 - val_loss: 0.2260 - val_acc: 0.9090\n",
            "Epoch 5/20\n",
            "100/100 [==============================] - 18s 176ms/step - loss: 0.3173 - acc: 0.8700 - val_loss: 0.2727 - val_acc: 0.8910\n",
            "Epoch 6/20\n",
            "100/100 [==============================] - 18s 175ms/step - loss: 0.3175 - acc: 0.8675 - val_loss: 0.2442 - val_acc: 0.9040\n",
            "Epoch 7/20\n",
            "100/100 [==============================] - 18s 176ms/step - loss: 0.2941 - acc: 0.8850 - val_loss: 0.2277 - val_acc: 0.9050\n",
            "Epoch 8/20\n",
            "100/100 [==============================] - 17s 174ms/step - loss: 0.2750 - acc: 0.8890 - val_loss: 0.3398 - val_acc: 0.8840\n",
            "Epoch 9/20\n",
            "100/100 [==============================] - 19s 187ms/step - loss: 0.2429 - acc: 0.8955 - val_loss: 0.2285 - val_acc: 0.9130\n",
            "Epoch 10/20\n",
            "100/100 [==============================] - 18s 175ms/step - loss: 0.2467 - acc: 0.8950 - val_loss: 0.3993 - val_acc: 0.8720\n",
            "Epoch 11/20\n",
            "100/100 [==============================] - 17s 175ms/step - loss: 0.2403 - acc: 0.9055 - val_loss: 0.2747 - val_acc: 0.9150\n",
            "Epoch 12/20\n",
            "100/100 [==============================] - 18s 176ms/step - loss: 0.2389 - acc: 0.9080 - val_loss: 0.2704 - val_acc: 0.9170\n",
            "Epoch 13/20\n",
            "100/100 [==============================] - 19s 186ms/step - loss: 0.2326 - acc: 0.9080 - val_loss: 0.1890 - val_acc: 0.9270\n",
            "Epoch 14/20\n",
            "100/100 [==============================] - 18s 177ms/step - loss: 0.2171 - acc: 0.9110 - val_loss: 0.2356 - val_acc: 0.9220\n",
            "Epoch 15/20\n",
            "100/100 [==============================] - 18s 175ms/step - loss: 0.2275 - acc: 0.9050 - val_loss: 0.2171 - val_acc: 0.9250\n",
            "Epoch 16/20\n",
            "100/100 [==============================] - 19s 189ms/step - loss: 0.2095 - acc: 0.9225 - val_loss: 0.2755 - val_acc: 0.9310\n",
            "Epoch 17/20\n",
            "100/100 [==============================] - 18s 183ms/step - loss: 0.2086 - acc: 0.9135 - val_loss: 0.4039 - val_acc: 0.8920\n",
            "Epoch 18/20\n",
            "100/100 [==============================] - 19s 186ms/step - loss: 0.2053 - acc: 0.9220 - val_loss: 0.2429 - val_acc: 0.9360\n",
            "Epoch 19/20\n",
            "100/100 [==============================] - 18s 176ms/step - loss: 0.2069 - acc: 0.9235 - val_loss: 0.2802 - val_acc: 0.9250\n",
            "Epoch 20/20\n",
            "100/100 [==============================] - 17s 175ms/step - loss: 0.1835 - acc: 0.9295 - val_loss: 0.2680 - val_acc: 0.9300\n"
          ],
          "name": "stdout"
        }
      ]
    },
    {
      "metadata": {
        "id": "-oa_AUQo71aa",
        "colab_type": "code",
        "colab": {
          "base_uri": "https://localhost:8080/",
          "height": 295
        },
        "outputId": "e6dd5553-4f1c-41fa-cdb3-25a034136fca"
      },
      "cell_type": "code",
      "source": [
        "#plot results\n",
        "import matplotlib as mpl\n",
        "import matplotlib.pyplot as plt\n",
        "\n",
        "epoch = []\n",
        "for i in range(20):\n",
        "  epoch.append(i+1)\n",
        "  \n",
        "plt.plot(epoch, history.history['val_acc'], label='Validation accuracy')\n",
        "plt.plot(epoch, history.history['acc'], label='Training accuracy')\n",
        "plt.xlabel(\"# of epochs\")\n",
        "plt.ylabel(\"Accuracy\")\n",
        "plt.title(\"Results\")\n",
        "plt.legend(loc=\"upper left\", fontsize=16)\n",
        "plt.show()"
      ],
      "execution_count": 8,
      "outputs": [
        {
          "output_type": "display_data",
          "data": {
            "image/png": "[encoded data removed]",
            "text/plain": [
              "<Figure size 432x288 with 1 Axes>"
            ]
          },
          "metadata": {
            "tags": []
          }
        }
      ]
    },
    {
      "metadata": {
        "id": "Cn6um7jz8b7C",
        "colab_type": "code",
        "colab": {
          "base_uri": "https://localhost:8080/",
          "height": 34
        },
        "outputId": "a3b4af6e-b561-42a1-f46d-4f5c52726cc7"
      },
      "cell_type": "code",
      "source": [
        "!pip install -U -q PyDrive\n",
        "from pydrive.auth import GoogleAuth\n",
        "from pydrive.drive import GoogleDrive \n",
        "from google.colab import auth \n",
        "from oauth2client.client import GoogleCredentials\n",
        "\n",
        "auth.authenticate_user()\n",
        "gauth = GoogleAuth()\n",
        "gauth.credentials = GoogleCredentials.get_application_default()                       \n",
        "drive = GoogleDrive(gauth)\n",
        "\n",
        "model.save('model.h5')\n",
        "model_file = drive.CreateFile({'title' : 'model.h5'})                       \n",
        "model_file.SetContentFile('model.h5')                       \n",
        "model_file.Upload()\n",
        "\n",
        "# download to google drive                       \n",
        "drive.CreateFile({'id': model_file.get('id')})\n",
        "\n"
      ],
      "execution_count": 10,
      "outputs": [
        {
          "output_type": "execute_result",
          "data": {
            "text/plain": [
              "GoogleDriveFile({'id': '1WmOc6pi598TfKiiPd6Xhw8CmSMO_tGnk'})"
            ]
          },
          "metadata": {
            "tags": []
          },
          "execution_count": 10
        }
      ]
    }
  ]
}