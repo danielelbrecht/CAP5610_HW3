{
  "nbformat": 4,
  "nbformat_minor": 0,
  "metadata": {
    "colab": {
      "name": "CAP5610_HW3_Probem1.ipynb",
      "version": "0.3.2",
      "provenance": [],
      "include_colab_link": true
    },
    "kernelspec": {
      "name": "python3",
      "display_name": "Python 3"
    }
  },
  "cells": [
    {
      "cell_type": "markdown",
      "metadata": {
        "id": "view-in-github",
        "colab_type": "text"
      },
      "source": [
        "<a href=\"https://colab.research.google.com/github/danielelbrecht/CAP5610_HW3/blob/master/CAP5610_HW3_Probem1.ipynb\" target=\"_parent\"><img src=\"https://colab.research.google.com/assets/colab-badge.svg\" alt=\"Open In Colab\"/></a>"
      ]
    },
    {
      "metadata": {
        "id": "slkxY8mUtTPM",
        "colab_type": "text"
      },
      "cell_type": "markdown",
      "source": [
        "# Feature extraction on cats and dogs dataset with data augmentation"
      ]
    },
    {
      "metadata": {
        "id": "clFyDMrEtd6y",
        "colab_type": "code",
        "colab": {}
      },
      "cell_type": "code",
      "source": [
        "from keras.applications import VGG16\n",
        "from keras import backend as K\n",
        "from keras import layers\n",
        "import numpy as np\n",
        "import tensorflow as tf\n",
        "from tensorflow.keras import layers, utils\n",
        "\n",
        "# Import VGG model\n",
        "vgg = VGG16(weights='imagenet', include_top=False, input_shape=(150, 150, 3))"
      ],
      "execution_count": 0,
      "outputs": []
    },
    {
      "metadata": {
        "id": "Fyvno7WVtrn6",
        "colab_type": "code",
        "colab": {
          "base_uri": "https://localhost:8080/",
          "height": 204
        },
        "outputId": "2a86db40-a799-469c-e70e-072b774e73a0"
      },
      "cell_type": "code",
      "source": [
        "# Download cats and dogs data set\n",
        "!wget --no-check-certificate \\\n",
        "    https://storage.googleapis.com/mledu-datasets/cats_and_dogs_filtered.zip \\\n",
        "    -O /tmp/cats_and_dogs_filtered.zip"
      ],
      "execution_count": 2,
      "outputs": [
        {
          "output_type": "stream",
          "text": [
            "--2019-04-17 00:50:33--  https://storage.googleapis.com/mledu-datasets/cats_and_dogs_filtered.zip\n",
            "Resolving storage.googleapis.com (storage.googleapis.com)... 74.125.195.128, 2607:f8b0:400e:c09::80\n",
            "Connecting to storage.googleapis.com (storage.googleapis.com)|74.125.195.128|:443... connected.\n",
            "HTTP request sent, awaiting response... 200 OK\n",
            "Length: 68606236 (65M) [application/zip]\n",
            "Saving to: ‘/tmp/cats_and_dogs_filtered.zip’\n",
            "\n",
            "/tmp/cats_and_dogs_ 100%[===================>]  65.43M   105MB/s    in 0.6s    \n",
            "\n",
            "2019-04-17 00:50:34 (105 MB/s) - ‘/tmp/cats_and_dogs_filtered.zip’ saved [68606236/68606236]\n",
            "\n"
          ],
          "name": "stdout"
        }
      ]
    },
    {
      "metadata": {
        "id": "KzFJgH3wuDmu",
        "colab_type": "code",
        "colab": {}
      },
      "cell_type": "code",
      "source": [
        "# Process data set\n",
        "import os\n",
        "import zipfile\n",
        "\n",
        "local_zip = '/tmp/cats_and_dogs_filtered.zip'\n",
        "zip_ref = zipfile.ZipFile(local_zip, 'r')\n",
        "zip_ref.extractall('/tmp')\n",
        "zip_ref.close()\n",
        "\n",
        "base_dir = '/tmp/cats_and_dogs_filtered'\n",
        "train_dir = os.path.join(base_dir, 'train')\n",
        "validation_dir = os.path.join(base_dir, 'validation')\n",
        "\n",
        "# Directory with our training cat pictures\n",
        "train_cats_dir = os.path.join(train_dir, 'cats')\n",
        "\n",
        "# Directory with our training dog pictures\n",
        "train_dogs_dir = os.path.join(train_dir, 'dogs')\n",
        "\n",
        "# Directory with our validation cat pictures\n",
        "validation_cats_dir = os.path.join(validation_dir, 'cats')\n",
        "\n",
        "# Directory with our validation dog pictures\n",
        "validation_dogs_dir = os.path.join(validation_dir, 'dogs')"
      ],
      "execution_count": 0,
      "outputs": []
    },
    {
      "metadata": {
        "id": "42v_2DiTvkoq",
        "colab_type": "code",
        "colab": {}
      },
      "cell_type": "code",
      "source": [
        "from keras import models\n",
        "from keras import layers\n",
        "\n",
        "# Add Dense layers on top of model\n",
        "model = models.Sequential()\n",
        "\n",
        "vgg.trainable = False\n",
        "\n",
        "model.add(vgg)\n",
        "\n",
        "# Flatten output of VGG\n",
        "model.add(layers.Flatten())\n",
        "\n",
        "# FC layers and final classification layer\n",
        "model.add(layers.Dense(32, activation='relu'))\n",
        "model.add(layers.Dense(32, activation='relu'))\n",
        "model.add(layers.Dense(1, activation='sigmoid'))\n"
      ],
      "execution_count": 0,
      "outputs": []
    },
    {
      "metadata": {
        "id": "BDWN6nA0wZ-i",
        "colab_type": "code",
        "colab": {
          "base_uri": "https://localhost:8080/",
          "height": 51
        },
        "outputId": "fa292530-ce79-406e-a9f8-0e870240a8b6"
      },
      "cell_type": "code",
      "source": [
        "from keras.preprocessing.image import ImageDataGenerator\n",
        "\n",
        "#Create data augmentation generators\n",
        "train_datagen = ImageDataGenerator(\n",
        "    rescale=1./255,\n",
        "    rotation_range=40,\n",
        "    width_shift_range=0.2,\n",
        "    height_shift_range=0.2,\n",
        "    zoom_range=0.2,\n",
        "    horizontal_flip=True,\n",
        "    fill_mode='nearest')\n",
        "\n",
        "train_generator = train_datagen.flow_from_directory(\n",
        "    train_dir,\n",
        "    target_size=(150, 150),\n",
        "    batch_size=20,\n",
        "    class_mode='binary')\n",
        "\n",
        "\n",
        "validation_datagen = ImageDataGenerator(rescale=1./255)\n",
        "\n",
        "validation_generator = validation_datagen.flow_from_directory(\n",
        "    validation_dir,\n",
        "    target_size=(150, 150),\n",
        "    batch_size=20,\n",
        "    class_mode='binary')\n",
        "\n",
        "\n",
        "# Compile model\n",
        "model.compile(optimizer='rmsprop',\n",
        "              loss='binary_crossentropy',\n",
        "              metrics=['accuracy'])\n"
      ],
      "execution_count": 24,
      "outputs": [
        {
          "output_type": "stream",
          "text": [
            "Found 2000 images belonging to 2 classes.\n",
            "Found 1000 images belonging to 2 classes.\n"
          ],
          "name": "stdout"
        }
      ]
    },
    {
      "metadata": {
        "id": "q8jXVafuxQVx",
        "colab_type": "code",
        "colab": {
          "base_uri": "https://localhost:8080/",
          "height": 306
        },
        "outputId": "c675a436-07a8-4130-a078-856c0a20805b"
      },
      "cell_type": "code",
      "source": [
        "# View model summary\n",
        "model.summary()"
      ],
      "execution_count": 25,
      "outputs": [
        {
          "output_type": "stream",
          "text": [
            "_________________________________________________________________\n",
            "Layer (type)                 Output Shape              Param #   \n",
            "=================================================================\n",
            "vgg16 (Model)                (None, 4, 4, 512)         14714688  \n",
            "_________________________________________________________________\n",
            "flatten_3 (Flatten)          (None, 8192)              0         \n",
            "_________________________________________________________________\n",
            "dense_7 (Dense)              (None, 32)                262176    \n",
            "_________________________________________________________________\n",
            "dense_8 (Dense)              (None, 32)                1056      \n",
            "_________________________________________________________________\n",
            "dense_9 (Dense)              (None, 1)                 33        \n",
            "=================================================================\n",
            "Total params: 14,977,953\n",
            "Trainable params: 263,265\n",
            "Non-trainable params: 14,714,688\n",
            "_________________________________________________________________\n"
          ],
          "name": "stdout"
        }
      ]
    },
    {
      "metadata": {
        "id": "sOiZHrN1xS3L",
        "colab_type": "code",
        "colab": {
          "base_uri": "https://localhost:8080/",
          "height": 697
        },
        "outputId": "e8b58e3a-7e0c-4555-faa9-c6917d08c80e"
      },
      "cell_type": "code",
      "source": [
        "# Train model\n",
        "history = model.fit_generator(\n",
        "    train_generator,\n",
        "    steps_per_epoch=100,\n",
        "    epochs=20,\n",
        "    validation_data=validation_generator,\n",
        "    validation_steps=50\n",
        ")"
      ],
      "execution_count": 26,
      "outputs": [
        {
          "output_type": "stream",
          "text": [
            "Epoch 1/20\n",
            "100/100 [==============================] - 714s 7s/step - loss: 0.5565 - acc: 0.7100 - val_loss: 0.3963 - val_acc: 0.8060\n",
            "Epoch 2/20\n",
            "100/100 [==============================] - 710s 7s/step - loss: 0.4245 - acc: 0.8135 - val_loss: 0.3002 - val_acc: 0.8720\n",
            "Epoch 3/20\n",
            "100/100 [==============================] - 709s 7s/step - loss: 0.3926 - acc: 0.8150 - val_loss: 0.5782 - val_acc: 0.7420\n",
            "Epoch 4/20\n",
            "100/100 [==============================] - 710s 7s/step - loss: 0.3877 - acc: 0.8300 - val_loss: 0.2725 - val_acc: 0.8850\n",
            "Epoch 5/20\n",
            "100/100 [==============================] - 713s 7s/step - loss: 0.3676 - acc: 0.8315 - val_loss: 0.2738 - val_acc: 0.8840\n",
            "Epoch 6/20\n",
            "100/100 [==============================] - 711s 7s/step - loss: 0.3546 - acc: 0.8565 - val_loss: 0.2571 - val_acc: 0.8830\n",
            "Epoch 7/20\n",
            "100/100 [==============================] - 712s 7s/step - loss: 0.3417 - acc: 0.8390 - val_loss: 0.2631 - val_acc: 0.8840\n",
            "Epoch 8/20\n",
            "100/100 [==============================] - 713s 7s/step - loss: 0.3216 - acc: 0.8585 - val_loss: 0.2610 - val_acc: 0.8850\n",
            "Epoch 9/20\n",
            "100/100 [==============================] - 710s 7s/step - loss: 0.3179 - acc: 0.8630 - val_loss: 0.3602 - val_acc: 0.8570\n",
            "Epoch 10/20\n",
            "100/100 [==============================] - 709s 7s/step - loss: 0.3157 - acc: 0.8610 - val_loss: 0.3032 - val_acc: 0.8760\n",
            "Epoch 11/20\n",
            "100/100 [==============================] - 712s 7s/step - loss: 0.3273 - acc: 0.8570 - val_loss: 0.2605 - val_acc: 0.8800\n",
            "Epoch 12/20\n",
            "100/100 [==============================] - 711s 7s/step - loss: 0.3183 - acc: 0.8640 - val_loss: 0.2549 - val_acc: 0.8920\n",
            "Epoch 13/20\n",
            "100/100 [==============================] - 717s 7s/step - loss: 0.3224 - acc: 0.8525 - val_loss: 0.2541 - val_acc: 0.9020\n",
            "Epoch 14/20\n",
            "100/100 [==============================] - 708s 7s/step - loss: 0.3032 - acc: 0.8630 - val_loss: 0.2617 - val_acc: 0.8930\n",
            "Epoch 15/20\n",
            "100/100 [==============================] - 711s 7s/step - loss: 0.3147 - acc: 0.8625 - val_loss: 0.2642 - val_acc: 0.8920\n",
            "Epoch 16/20\n",
            "100/100 [==============================] - 710s 7s/step - loss: 0.3143 - acc: 0.8605 - val_loss: 0.2602 - val_acc: 0.8910\n",
            "Epoch 17/20\n",
            "100/100 [==============================] - 708s 7s/step - loss: 0.3066 - acc: 0.8660 - val_loss: 0.2817 - val_acc: 0.8870\n",
            "Epoch 18/20\n",
            "100/100 [==============================] - 709s 7s/step - loss: 0.3112 - acc: 0.8675 - val_loss: 0.2706 - val_acc: 0.8910\n",
            "Epoch 19/20\n",
            "100/100 [==============================] - 708s 7s/step - loss: 0.2802 - acc: 0.8735 - val_loss: 0.2663 - val_acc: 0.8910\n",
            "Epoch 20/20\n",
            "100/100 [==============================] - 710s 7s/step - loss: 0.2966 - acc: 0.8610 - val_loss: 0.3291 - val_acc: 0.8650\n"
          ],
          "name": "stdout"
        }
      ]
    },
    {
      "metadata": {
        "id": "fky21zq9uBF2",
        "colab_type": "code",
        "colab": {
          "base_uri": "https://localhost:8080/",
          "height": 295
        },
        "outputId": "59f32bb1-3be1-4b71-dc5c-8fa757a81b54"
      },
      "cell_type": "code",
      "source": [
        "#plot results\n",
        "import matplotlib as mpl\n",
        "import matplotlib.pyplot as plt\n",
        "\n",
        "epoch = []\n",
        "for i in range(20):\n",
        "  epoch.append(i+1)\n",
        "  \n",
        "plt.plot(epoch, history.history['val_acc'], label='Validation accuracy')\n",
        "plt.plot(epoch, history.history['acc'], label='Training accuracy')\n",
        "plt.xlabel(\"# of epochs\")\n",
        "plt.ylabel(\"Accuracy\")\n",
        "plt.title(\"Results\")\n",
        "plt.legend(loc=\"upper left\", fontsize=16)\n",
        "plt.show()"
      ],
      "execution_count": 27,
      "outputs": [
        {
          "output_type": "display_data",
          "data": {
            "image/png": "[encoded data removed]",
            "text/plain": [
              "<Figure size 432x288 with 1 Axes>"
            ]
          },
          "metadata": {
            "tags": []
          }
        }
      ]
    }
  ]
}